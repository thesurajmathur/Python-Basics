{
 "cells": [
  {
   "cell_type": "markdown",
   "id": "8239b0b9-7d67-47f2-b9f4-4f840c83812a",
   "metadata": {},
   "source": [
    "# 29 January assignment "
   ]
  },
  {
   "cell_type": "markdown",
   "id": "4967233f-ed31-4b10-a8d2-fd0acba9f66e",
   "metadata": {},
   "source": [
    "### 1. Who developed Python Programming Language? "
   ]
  },
  {
   "cell_type": "markdown",
   "id": "de6fbb3f-d2e0-45de-a761-f68ec5ccdf92",
   "metadata": {},
   "source": [
    "**Ans.** Python was developed by Guido van Rossum in the late 1980s and early 1990s."
   ]
  },
  {
   "cell_type": "markdown",
   "id": "5dd82f56-b7ad-4428-9836-b8c75d6812c7",
   "metadata": {},
   "source": [
    "### 2. Which type of Programming does Python support? "
   ]
  },
  {
   "cell_type": "markdown",
   "id": "4f4a6a48-58b7-4f47-b6f4-81339618ea5b",
   "metadata": {},
   "source": [
    "**Ans.** Python supports a variety of programming paradigms, including procedural, object-oriented, and functional programming."
   ]
  },
  {
   "cell_type": "markdown",
   "id": "a4dec18e-ebb3-4aad-896a-2e6ccb35a7b9",
   "metadata": {},
   "source": [
    "### 3. Is Python case sensitive when dealing with identifiers? "
   ]
  },
  {
   "cell_type": "markdown",
   "id": "dd3ff1a2-41c3-40e8-bf22-c9f5fa477a99",
   "metadata": {},
   "source": [
    "**Ans.** Yes, Python is case sensitive."
   ]
  },
  {
   "cell_type": "markdown",
   "id": "7e682be0-dbdf-4e32-89c1-bf3eb3d61079",
   "metadata": {},
   "source": [
    "### 4. What is the correct extension of the Python file? "
   ]
  },
  {
   "cell_type": "markdown",
   "id": "6bea4d71-e254-466d-879b-8508c5316096",
   "metadata": {},
   "source": [
    "**Ans.** The correct extension for a Python file is py."
   ]
  },
  {
   "cell_type": "markdown",
   "id": "402a3e7e-944a-448f-9845-70b6895db319",
   "metadata": {},
   "source": [
    "### 5. Is Python code compiled or interpreted? "
   ]
  },
  {
   "cell_type": "markdown",
   "id": "3975a086-c786-4946-8063-496db4ed1701",
   "metadata": {},
   "source": [
    "**Ans.** Python code is interpreted."
   ]
  },
  {
   "cell_type": "markdown",
   "id": "5f8e4125-acac-4569-8ad0-30cf6e495c78",
   "metadata": {},
   "source": [
    "### 6. Name a few blocks of code used to define in Python language? "
   ]
  },
  {
   "cell_type": "markdown",
   "id": "ce2ec8d6-e5d7-478d-92e2-79198650eb80",
   "metadata": {},
   "source": [
    "**Ans.** Few blocks of code are \n",
    "\n",
    "1.'for'\n",
    "\n",
    "2.'while'\n",
    "\n",
    "3.'if'\n",
    "\n",
    "4.'else'**     and so on."
   ]
  },
  {
   "cell_type": "markdown",
   "id": "f6df17a5-884d-4fc4-8e01-d1a21cb343d9",
   "metadata": {},
   "source": [
    "### 7. State a character used to give single-line comments in Python? "
   ]
  },
  {
   "cell_type": "markdown",
   "id": "36232b49-6e04-4f45-a044-b8f5a1632ef9",
   "metadata": {},
   "source": [
    "**Ans .**  '#' character is used to show singe line commments in python as it helps us to understand any comment or indication towards anything."
   ]
  },
  {
   "cell_type": "markdown",
   "id": "889e70dc-83e7-4a45-86a5-84b6fcafb9aa",
   "metadata": {},
   "source": [
    "### 8. Mention functions which can help us to find the version of python that we are currently working on? "
   ]
  },
  {
   "cell_type": "markdown",
   "id": "f1e19a56-4b71-4760-99b0-92d6ca45dbd1",
   "metadata": {},
   "source": [
    "**Ans .** To find the version of Python that we are currently working on, we can use the sys module in Python. "
   ]
  },
  {
   "cell_type": "markdown",
   "id": "07965d08-098b-4faf-b76f-8c1aaf798c26",
   "metadata": {},
   "source": [
    "### 9. Python supports the creation of anonymous functions at runtime, using a construct called ? "
   ]
  },
  {
   "cell_type": "markdown",
   "id": "7124b63b-f81f-47b8-9a90-e884fe8c54eb",
   "metadata": {},
   "source": [
    "**Ans .** Python supports the creation of anonymous functions at runtime using a construct called lambda functions. "
   ]
  },
  {
   "cell_type": "markdown",
   "id": "6de1fc10-da97-4b73-9d9c-fd207c3db34a",
   "metadata": {},
   "source": [
    "### 10. What does pip stand for python? "
   ]
  },
  {
   "cell_type": "markdown",
   "id": "62f93dd5-f488-45f1-b072-916f0eb90cf4",
   "metadata": {},
   "source": [
    "**Ans .**  pip stands for \"Pip Installs Packages\". "
   ]
  },
  {
   "cell_type": "markdown",
   "id": "dc5b93b6-c0c2-4240-b0e3-442d610882b3",
   "metadata": {},
   "source": [
    "### 11. Mention a few built-in functions in python? "
   ]
  },
  {
   "cell_type": "markdown",
   "id": "a35d8d08-22b5-4947-831a-01f18548be9c",
   "metadata": {},
   "source": [
    "**Ans .**  Python comes with a wide range of built-in functions such as : \n",
    "\n",
    "**print():** Used to display output on the screen.\n",
    "    \n",
    "**len():** Used to get the length of a sequence\n",
    "    \n",
    "\n",
    "**type():** Used to get the type of an object."
   ]
  },
  {
   "cell_type": "markdown",
   "id": "10dc52e3-ea7b-4fd4-b859-286efd83335d",
   "metadata": {},
   "source": [
    "### 12. What is the maximum possible length of an identifier in Python? "
   ]
  },
  {
   "cell_type": "markdown",
   "id": "4177bfb4-e8ed-45ba-a79d-b5dc4261abef",
   "metadata": {},
   "source": [
    "**Ans.** 79 characters"
   ]
  },
  {
   "cell_type": "markdown",
   "id": "07d24453-5744-4895-902f-d49734365c23",
   "metadata": {},
   "source": [
    "### 13. What are the benefits of using Python? "
   ]
  },
  {
   "cell_type": "markdown",
   "id": "20c55a74-d898-487a-a36d-a5d80c3a4422",
   "metadata": {},
   "source": [
    "**Ans**. Some benefits of using Python include:\n",
    "    \n",
    "- It is a high-level, interpreted language, which makes it easy to write and read code.\n",
    "\n",
    "- It has a simple and easy-to-learn syntax, which makes it accessible to beginners.\n",
    "- It supports multiple programming paradigms, including procedural, object-oriented, and functional programming."
   ]
  },
  {
   "cell_type": "markdown",
   "id": "9cbfeff9-48d0-45a6-bca4-a96ace54317a",
   "metadata": {},
   "source": [
    "### 14. How is memory managed in Python? "
   ]
  },
  {
   "cell_type": "markdown",
   "id": "ff0895fe-8ad4-4689-8f64-c6223bb93213",
   "metadata": {},
   "source": [
    "**Ans**. Memory management in Python is handled automatically by the Python interpreter through a process called garbage collection. "
   ]
  },
  {
   "cell_type": "markdown",
   "id": "5b77feae-1c19-4080-9940-1f07337cf5dd",
   "metadata": {},
   "source": [
    "### 15. How to install Python on Windows and set path variables?"
   ]
  },
  {
   "cell_type": "markdown",
   "id": "775906f3-cab4-4cd9-a6e0-597faee7b970",
   "metadata": {},
   "source": [
    "**Ans**. To install Python on Windows and set path variables, these are steps:\n",
    "\n",
    "- Go to the official Python website and download the latest version of Python for Windows.\n",
    "\n",
    "- Run the installer and follow the on-screen instructions to install Python on your system.\n",
    "\n",
    "- Open the Start menu and search for \"Environment Variables\".\n",
    "\n",
    "- Click on \"Edit the system environment variables\".\n",
    "\n",
    "- Click on the \"Environment Variables\" button.\n",
    "\n",
    "- Under \"System Variables\", click on \"New\".\n",
    "\n",
    "- Enter \"PYTHONPATH\" in the \"Variable name\" field and the path to your Python installation in the \""
   ]
  },
  {
   "cell_type": "markdown",
   "id": "00f6915f-5ae6-4ba6-b21c-95e5ea1b0cd3",
   "metadata": {},
   "source": [
    "### 16. Is indentation required in python?"
   ]
  },
  {
   "cell_type": "markdown",
   "id": "280d58d4-c10e-4bf5-a74d-01aac34fbbe2",
   "metadata": {},
   "source": [
    "**Ans.** Yes, indentation is required in Python. Python uses indentation to indicate blocks of code. Code blocks such as function, class, loops, conditions, etc., are defined by their indentation level."
   ]
  },
  {
   "cell_type": "markdown",
   "id": "50f901be-fd1a-49f2-b680-211be8a16428",
   "metadata": {},
   "source": [
    "# **End**"
   ]
  }
 ],
 "metadata": {
  "kernelspec": {
   "display_name": "Python 3 (ipykernel)",
   "language": "python",
   "name": "python3"
  },
  "language_info": {
   "codemirror_mode": {
    "name": "ipython",
    "version": 3
   },
   "file_extension": ".py",
   "mimetype": "text/x-python",
   "name": "python",
   "nbconvert_exporter": "python",
   "pygments_lexer": "ipython3",
   "version": "3.10.8"
  }
 },
 "nbformat": 4,
 "nbformat_minor": 5
}
